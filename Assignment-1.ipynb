{
 "cells": [
  {
   "cell_type": "markdown",
   "metadata": {},
   "source": [
    "Q1---> 1. In the below elements which of them are values or an expression? eg:- values can be integer or string and expressions will be mathematical operators.\n",
    "\n",
    "* \n",
    "'hello'\n",
    "-87.8\n",
    "- \n",
    "/ \n",
    "+\t\n",
    "6 \n",
    "\n",
    "\n",
    "ANS-- Values are - 'hello' , -87.5  , 6\n",
    "\n",
    "Expression are = -  , /  ,  +  ,  *"
   ]
  },
  {
   "cell_type": "markdown",
   "metadata": {},
   "source": [
    "Q2--> What is the difference between string and variable?\n",
    "\n",
    "Ans > String is anything that we write in '' or \"\"  or \"\"\"  \"\"\" it can contain numeric degits or any alphabet\n",
    "whereas variables are pointers in python which we used to save the data in memory for ex ---  b=30 here b is variable and 30 is value."
   ]
  },
  {
   "cell_type": "markdown",
   "metadata": {},
   "source": [
    "Q3 --> Describe three different data types.\n",
    "\n",
    "Ans-- In python we have number of datatypes-namely FLOAT , INTEGER, STRING, BOOLEAN , CHARACTER\n",
    "\n",
    "Float is a datatype where we use decimal numbers like - 123.45\n",
    "\n",
    "Interger is a datatype where we use all integer number - 123, 456 etc\n",
    "\n",
    "In String datatype will use all alphabet character or numerals but that should be in inverted commas \"\" , ' '  \"\"\" \"\"\"\n",
    "\n",
    "Boolean will give all the reponse in TRUE or FALSE"
   ]
  },
  {
   "cell_type": "markdown",
   "metadata": {},
   "source": [
    "Q4 --> What is an expression made up of? What do all expressions do?\n",
    "\n",
    "Ans - Expression is basically used to perform a task for ex-  for addition will use c=a+b (it is combination of operator, operand)\n",
    "in python we have arithmetic , Relational, Logical etc.\n",
    "These expression helps to perform various mathematical and other operations."
   ]
  },
  {
   "cell_type": "markdown",
   "metadata": {},
   "source": [
    "Q5 --> This assignment statements, like spam = 10. What is the difference between an expression and a statement?\n",
    "\n",
    "Ans--  Expression consist of values,  mathematical operators and operands and the statement is just a command that a python interpreter executes ."
   ]
  },
  {
   "cell_type": "markdown",
   "metadata": {},
   "source": [
    "Q6 --> After running the following code, what does the variable bacon contain?\n",
    "\n",
    "Ans - 23\n"
   ]
  },
  {
   "cell_type": "code",
   "execution_count": 1,
   "metadata": {},
   "outputs": [
    {
     "data": {
      "text/plain": [
       "23"
      ]
     },
     "execution_count": 1,
     "metadata": {},
     "output_type": "execute_result"
    }
   ],
   "source": [
    "bacon = 22\n",
    "bacon + 1\n"
   ]
  },
  {
   "cell_type": "markdown",
   "metadata": {},
   "source": [
    "Q7. What should the values of the following two terms be?\n",
    "\n",
    "Ans-- Output will be same 'spamspamspam'"
   ]
  },
  {
   "cell_type": "code",
   "execution_count": 3,
   "metadata": {},
   "outputs": [
    {
     "data": {
      "text/plain": [
       "'spamspamspam'"
      ]
     },
     "execution_count": 3,
     "metadata": {},
     "output_type": "execute_result"
    }
   ],
   "source": [
    "'spam' + 'spamspam'\n",
    "\n"
   ]
  },
  {
   "cell_type": "code",
   "execution_count": 4,
   "metadata": {},
   "outputs": [
    {
     "data": {
      "text/plain": [
       "'spamspamspam'"
      ]
     },
     "execution_count": 4,
     "metadata": {},
     "output_type": "execute_result"
    }
   ],
   "source": [
    "'spam' * 3"
   ]
  },
  {
   "cell_type": "markdown",
   "metadata": {},
   "source": [
    "Q8--> Why is eggs a valid variable name while 100 is invalid?\n",
    "\n",
    "Ans --> Because in Python we can take any alphabet upper or lower case as variable name but we can't take integer or alphabet stating with special character as variable name."
   ]
  },
  {
   "cell_type": "markdown",
   "metadata": {},
   "source": [
    "Q9. What three functions can be used to get the integer, floating-point number, or string version of a value?\n",
    "\n",
    "Ans--> int() for integer , float for floating number and str() for string"
   ]
  },
  {
   "cell_type": "markdown",
   "metadata": {},
   "source": [
    "QWhy does this expression cause an error? How can you fix it?\n",
    "'I have eaten ' + 99 + ' burritos.'\n",
    "\n",
    "Ans--> Because we cannot concatenate string with integer value so what we can do to rectify it \n",
    "is we can make whole equation as string by placing whole sentence in single quotes.\n",
    "\n",
    "'I have eaten  + 99 +  burritos.'\n"
   ]
  },
  {
   "cell_type": "code",
   "execution_count": 7,
   "metadata": {},
   "outputs": [
    {
     "ename": "TypeError",
     "evalue": "can only concatenate str (not \"int\") to str",
     "output_type": "error",
     "traceback": [
      "\u001b[1;31m---------------------------------------------------------------------------\u001b[0m",
      "\u001b[1;31mTypeError\u001b[0m                                 Traceback (most recent call last)",
      "\u001b[1;32m<ipython-input-7-d24137131a5c>\u001b[0m in \u001b[0;36m<module>\u001b[1;34m\u001b[0m\n\u001b[1;32m----> 1\u001b[1;33m \u001b[1;34m'I have eaten '\u001b[0m \u001b[1;33m+\u001b[0m \u001b[1;36m99\u001b[0m \u001b[1;33m+\u001b[0m \u001b[1;34m' burritos.'\u001b[0m\u001b[1;33m\u001b[0m\u001b[1;33m\u001b[0m\u001b[0m\n\u001b[0m",
      "\u001b[1;31mTypeError\u001b[0m: can only concatenate str (not \"int\") to str"
     ]
    }
   ],
   "source": [
    "'I have eaten ' + 99 + ' burritos.'"
   ]
  },
  {
   "cell_type": "code",
   "execution_count": 8,
   "metadata": {},
   "outputs": [
    {
     "data": {
      "text/plain": [
       "'I have eaten  + 99 +  burritos.'"
      ]
     },
     "execution_count": 8,
     "metadata": {},
     "output_type": "execute_result"
    }
   ],
   "source": [
    "'I have eaten  + 99 +  burritos.'"
   ]
  },
  {
   "cell_type": "code",
   "execution_count": null,
   "metadata": {},
   "outputs": [],
   "source": []
  }
 ],
 "metadata": {
  "kernelspec": {
   "display_name": "Python 3",
   "language": "python",
   "name": "python3"
  },
  "language_info": {
   "codemirror_mode": {
    "name": "ipython",
    "version": 3
   },
   "file_extension": ".py",
   "mimetype": "text/x-python",
   "name": "python",
   "nbconvert_exporter": "python",
   "pygments_lexer": "ipython3",
   "version": "3.7.6"
  }
 },
 "nbformat": 4,
 "nbformat_minor": 4
}
